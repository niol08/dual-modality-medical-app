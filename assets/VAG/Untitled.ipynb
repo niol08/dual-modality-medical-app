{
 "cells": [
  {
   "cell_type": "code",
   "execution_count": 5,
   "id": "6c193ff0-af4f-49ed-a069-c7b38bc27a61",
   "metadata": {},
   "outputs": [
    {
     "data": {
      "text/html": [
       "<div>\n",
       "<style scoped>\n",
       "    .dataframe tbody tr th:only-of-type {\n",
       "        vertical-align: middle;\n",
       "    }\n",
       "\n",
       "    .dataframe tbody tr th {\n",
       "        vertical-align: top;\n",
       "    }\n",
       "\n",
       "    .dataframe thead th {\n",
       "        text-align: right;\n",
       "    }\n",
       "</style>\n",
       "<table border=\"1\" class=\"dataframe\">\n",
       "  <thead>\n",
       "    <tr style=\"text-align: right;\">\n",
       "      <th></th>\n",
       "      <th>knee_condition</th>\n",
       "      <th>severity_level</th>\n",
       "      <th>treatment_advised</th>\n",
       "      <th>rms_amplitude</th>\n",
       "      <th>peak_frequency</th>\n",
       "      <th>spectral_entropy</th>\n",
       "      <th>zero_crossing_rate</th>\n",
       "      <th>mean_frequency</th>\n",
       "    </tr>\n",
       "  </thead>\n",
       "  <tbody>\n",
       "    <tr>\n",
       "      <th>0</th>\n",
       "      <td>normal</td>\n",
       "      <td>NaN</td>\n",
       "      <td>No Treatment</td>\n",
       "      <td>1.051421</td>\n",
       "      <td>20.0</td>\n",
       "      <td>-1799.219746</td>\n",
       "      <td>0.001</td>\n",
       "      <td>39.864485</td>\n",
       "    </tr>\n",
       "    <tr>\n",
       "      <th>1</th>\n",
       "      <td>normal</td>\n",
       "      <td>NaN</td>\n",
       "      <td>No Treatment</td>\n",
       "      <td>1.071817</td>\n",
       "      <td>20.0</td>\n",
       "      <td>-2010.827330</td>\n",
       "      <td>0.000</td>\n",
       "      <td>40.652874</td>\n",
       "    </tr>\n",
       "    <tr>\n",
       "      <th>2</th>\n",
       "      <td>osteoarthritis</td>\n",
       "      <td>Mild</td>\n",
       "      <td>Physiotherapy</td>\n",
       "      <td>1.098748</td>\n",
       "      <td>20.0</td>\n",
       "      <td>-2172.177329</td>\n",
       "      <td>0.000</td>\n",
       "      <td>39.961072</td>\n",
       "    </tr>\n",
       "    <tr>\n",
       "      <th>3</th>\n",
       "      <td>osteoarthritis</td>\n",
       "      <td>Severe</td>\n",
       "      <td>Surgery</td>\n",
       "      <td>1.063046</td>\n",
       "      <td>20.0</td>\n",
       "      <td>-1915.991388</td>\n",
       "      <td>0.000</td>\n",
       "      <td>39.860160</td>\n",
       "    </tr>\n",
       "    <tr>\n",
       "      <th>4</th>\n",
       "      <td>ligament_injury</td>\n",
       "      <td>Severe</td>\n",
       "      <td>Surgery</td>\n",
       "      <td>1.222318</td>\n",
       "      <td>20.0</td>\n",
       "      <td>-3331.987202</td>\n",
       "      <td>0.001</td>\n",
       "      <td>44.747680</td>\n",
       "    </tr>\n",
       "  </tbody>\n",
       "</table>\n",
       "</div>"
      ],
      "text/plain": [
       "    knee_condition severity_level treatment_advised  rms_amplitude  \\\n",
       "0           normal            NaN      No Treatment       1.051421   \n",
       "1           normal            NaN      No Treatment       1.071817   \n",
       "2   osteoarthritis           Mild     Physiotherapy       1.098748   \n",
       "3   osteoarthritis         Severe           Surgery       1.063046   \n",
       "4  ligament_injury         Severe           Surgery       1.222318   \n",
       "\n",
       "   peak_frequency  spectral_entropy  zero_crossing_rate  mean_frequency  \n",
       "0            20.0      -1799.219746               0.001       39.864485  \n",
       "1            20.0      -2010.827330               0.000       40.652874  \n",
       "2            20.0      -2172.177329               0.000       39.961072  \n",
       "3            20.0      -1915.991388               0.000       39.860160  \n",
       "4            20.0      -3331.987202               0.001       44.747680  "
      ]
     },
     "execution_count": 5,
     "metadata": {},
     "output_type": "execute_result"
    }
   ],
   "source": [
    "import pandas as pd, numpy as np\n",
    "from sklearn.preprocessing import LabelEncoder, StandardScaler\n",
    "from sklearn.model_selection import train_test_split\n",
    "from sklearn.ensemble import RandomForestClassifier\n",
    "from sklearn.metrics import classification_report\n",
    "\n",
    "\n",
    "df = pd.read_csv('vag_dataset.csv')\n",
    "df.head()\n",
    "\n"
   ]
  },
  {
   "cell_type": "code",
   "execution_count": 6,
   "id": "5aa3ebf7-25b4-4ead-8b61-7f6d3b63ca4e",
   "metadata": {},
   "outputs": [],
   "source": [
    "NUM_FEATS = [\n",
    "    \"rms_amplitude\",\n",
    "    \"peak_frequency\",\n",
    "    \"spectral_entropy\",\n",
    "    \"zero_crossing_rate\",\n",
    "    \"mean_frequency\",\n",
    "]\n",
    "\n",
    "X = df[NUM_FEATS].copy()\n",
    "y = df[\"knee_condition\"].str.strip().str.lower()   # target string labels\n"
   ]
  },
  {
   "cell_type": "code",
   "execution_count": 7,
   "id": "44404b96-1950-4eb8-868e-c5e39baa1550",
   "metadata": {},
   "outputs": [],
   "source": [
    "le = LabelEncoder()\n",
    "y_enc = le.fit_transform(y)               # 0,1,2…\n",
    "\n",
    "scaler = StandardScaler()\n",
    "X_scaled = scaler.fit_transform(X)\n",
    "\n",
    "X_tr, X_val, y_tr, y_val = train_test_split(\n",
    "    X_scaled, y_enc, test_size=0.2, random_state=42, stratify=y_enc\n",
    ")"
   ]
  },
  {
   "cell_type": "code",
   "execution_count": 8,
   "id": "1d2ae07a-acd7-408a-98d9-d6510f7a64b5",
   "metadata": {},
   "outputs": [
    {
     "name": "stdout",
     "output_type": "stream",
     "text": [
      "                 precision    recall  f1-score   support\n",
      "\n",
      "ligament_injury       1.00      1.00      1.00       174\n",
      "         normal       0.78      0.82      0.80       159\n",
      " osteoarthritis       0.82      0.78      0.80       167\n",
      "\n",
      "       accuracy                           0.87       500\n",
      "      macro avg       0.87      0.87      0.87       500\n",
      "   weighted avg       0.87      0.87      0.87       500\n",
      "\n"
     ]
    }
   ],
   "source": [
    "clf = RandomForestClassifier(\n",
    "        n_estimators=200,\n",
    "        max_depth=None,\n",
    "        random_state=42,\n",
    ")\n",
    "clf.fit(X_tr, y_tr)\n",
    "\n",
    "y_pred = clf.predict(X_val)\n",
    "print(classification_report(y_val, y_pred, target_names=le.classes_))"
   ]
  },
  {
   "cell_type": "code",
   "execution_count": 9,
   "id": "7bf9c5d2-1971-4964-96af-0c8ffff1fd5c",
   "metadata": {},
   "outputs": [
    {
     "data": {
      "text/plain": [
       "['vag_feature_classifier.pkl']"
      ]
     },
     "execution_count": 9,
     "metadata": {},
     "output_type": "execute_result"
    }
   ],
   "source": [
    "import joblib\n",
    "joblib.dump({\"model\": clf, \"scaler\": scaler, \"encoder\": le},\n",
    "            \"vag_feature_classifier.pkl\")\n"
   ]
  },
  {
   "cell_type": "code",
   "execution_count": null,
   "id": "98514168-9902-45f2-83f2-763ab52084fc",
   "metadata": {},
   "outputs": [],
   "source": []
  }
 ],
 "metadata": {
  "kernelspec": {
   "display_name": "Python (TensorFlow)",
   "language": "python",
   "name": "tf-env"
  },
  "language_info": {
   "codemirror_mode": {
    "name": "ipython",
    "version": 3
   },
   "file_extension": ".py",
   "mimetype": "text/x-python",
   "name": "python",
   "nbconvert_exporter": "python",
   "pygments_lexer": "ipython3",
   "version": "3.11.6"
  }
 },
 "nbformat": 4,
 "nbformat_minor": 5
}
